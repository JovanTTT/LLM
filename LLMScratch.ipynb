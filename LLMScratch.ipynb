{
 "cells": [
  {
   "cell_type": "markdown",
   "id": "63a8d9a2-39f5-4313-b51b-5ae21a0d65fb",
   "metadata": {},
   "source": [
    "## Step 1: Creating Tokens"
   ]
  },
  {
   "cell_type": "code",
   "execution_count": 1,
   "id": "7896b337-1510-4cb1-9236-4f4a4e9f7857",
   "metadata": {},
   "outputs": [
    {
     "name": "stdout",
     "output_type": "stream",
     "text": [
      "Total number of characters:  20479\n",
      "I HAD always thought Jack Gisburn rather a cheap genius--though a good fellow enough--so it was no \n"
     ]
    }
   ],
   "source": [
    "with open('the-verdict.txt', 'r', encoding = 'utf-8') as f:\n",
    "    raw_text = f.read()\n",
    "\n",
    "print('Total number of characters: ', len(raw_text))\n",
    "print(raw_text[:99])"
   ]
  },
  {
   "cell_type": "code",
   "execution_count": 2,
   "id": "98734113-47cb-4f63-ae75-5d111000f76c",
   "metadata": {},
   "outputs": [
    {
     "name": "stdout",
     "output_type": "stream",
     "text": [
      "['Hello,', ' ', 'world.', ' ', 'This,', ' ', 'is', ' ', 'a', ' ', 'test.']\n"
     ]
    }
   ],
   "source": [
    "import re\n",
    "\n",
    "text = 'Hello, world. This, is a test.'\n",
    "result = re.split(r'(\\s)', text)\n",
    "\n",
    "print(result)"
   ]
  },
  {
   "cell_type": "code",
   "execution_count": 3,
   "id": "8cf515d9-4378-47c4-878d-68357e0c2f25",
   "metadata": {},
   "outputs": [
    {
     "name": "stdout",
     "output_type": "stream",
     "text": [
      "['Hello', ',', '', ' ', 'world', '.', '', ' ', 'This', ',', '', ' ', 'is', ' ', 'a', ' ', 'test', '.', '']\n"
     ]
    }
   ],
   "source": [
    "result = re.split(r'([,.]|\\s)', text)\n",
    "print(result)"
   ]
  },
  {
   "cell_type": "code",
   "execution_count": 4,
   "id": "154ce335-58be-48b3-89af-5bb67ccb770f",
   "metadata": {},
   "outputs": [
    {
     "name": "stdout",
     "output_type": "stream",
     "text": [
      "['Hello', ',', 'world', '.', 'This', ',', 'is', 'a', 'test', '.']\n"
     ]
    }
   ],
   "source": [
    "result = [item for item in result if item.strip()]\n",
    "print(result)"
   ]
  },
  {
   "cell_type": "code",
   "execution_count": 5,
   "id": "76d9cd6a-50ef-48e7-ab25-88532b3d6d07",
   "metadata": {},
   "outputs": [
    {
     "name": "stdout",
     "output_type": "stream",
     "text": [
      "['Hello', ',', 'world', '.', 'Is', 'this', '--', 'a', 'test', '?']\n"
     ]
    }
   ],
   "source": [
    "text = 'Hello, world. Is this-- a test?'\n",
    "\n",
    "result = re.split(r'([,.:;?_!\"()\\']|--|\\s)', text) # Splitting the sentence wherever is the white space or any of the symbols ([,.:;?_!\"()\\']|--|\\s)\n",
    "result = [item.strip() for item in result if item.strip()] # Removing white spaces\n",
    "\n",
    "print(result)"
   ]
  },
  {
   "cell_type": "code",
   "execution_count": 6,
   "id": "6f4d7f44-7b9e-4700-afb5-a4779b16270b",
   "metadata": {},
   "outputs": [
    {
     "name": "stdout",
     "output_type": "stream",
     "text": [
      "['I', 'HAD', 'always', 'thought', 'Jack', 'Gisburn', 'rather', 'a', 'cheap', 'genius', '--', 'though', 'a', 'good', 'fellow', 'enough', '--', 'so', 'it', 'was', 'no', 'great', 'surprise', 'to', 'me', 'to', 'hear', 'that', ',', 'in']\n"
     ]
    }
   ],
   "source": [
    "preprocessed = re.split(r'([,.:;?_!\"()\\']|--|\\s)', raw_text)\n",
    "preprocessed = [item.strip() for item in preprocessed if item.strip()]\n",
    "print(preprocessed[:30])"
   ]
  },
  {
   "cell_type": "code",
   "execution_count": 7,
   "id": "7d08de67-97e6-4b9b-9a83-3d1dd2e13982",
   "metadata": {},
   "outputs": [
    {
     "name": "stdout",
     "output_type": "stream",
     "text": [
      "4690\n"
     ]
    }
   ],
   "source": [
    "print(len(preprocessed))"
   ]
  },
  {
   "cell_type": "markdown",
   "id": "63d464ef-d712-43b1-bc9c-fd62687210ec",
   "metadata": {},
   "source": [
    "## Step 2: Creating Token IDs"
   ]
  },
  {
   "cell_type": "code",
   "execution_count": 8,
   "id": "0a9ea039-24c1-4d1e-8699-91761a46843f",
   "metadata": {},
   "outputs": [
    {
     "name": "stdout",
     "output_type": "stream",
     "text": [
      "1130\n"
     ]
    }
   ],
   "source": [
    "all_words = sorted(set(preprocessed))\n",
    "vocab_size = len(all_words)\n",
    "\n",
    "print(vocab_size)"
   ]
  },
  {
   "cell_type": "code",
   "execution_count": 9,
   "id": "b718bbb5-b4bd-43ef-9a03-f9c614247081",
   "metadata": {},
   "outputs": [],
   "source": [
    "vocab = {token:integer for integer, token in enumerate(all_words)}"
   ]
  },
  {
   "cell_type": "code",
   "execution_count": 10,
   "id": "8be2c0ce-1794-43cd-8f94-3c739b0a511a",
   "metadata": {},
   "outputs": [
    {
     "name": "stdout",
     "output_type": "stream",
     "text": [
      "('!', 0)\n",
      "('\"', 1)\n",
      "(\"'\", 2)\n",
      "('(', 3)\n",
      "(')', 4)\n",
      "(',', 5)\n",
      "('--', 6)\n",
      "('.', 7)\n",
      "(':', 8)\n",
      "(';', 9)\n",
      "('?', 10)\n",
      "('A', 11)\n",
      "('Ah', 12)\n",
      "('Among', 13)\n",
      "('And', 14)\n",
      "('Are', 15)\n",
      "('Arrt', 16)\n",
      "('As', 17)\n",
      "('At', 18)\n",
      "('Be', 19)\n",
      "('Begin', 20)\n",
      "('Burlington', 21)\n",
      "('But', 22)\n",
      "('By', 23)\n",
      "('Carlo', 24)\n",
      "('Chicago', 25)\n",
      "('Claude', 26)\n",
      "('Come', 27)\n",
      "('Croft', 28)\n",
      "('Destroyed', 29)\n",
      "('Devonshire', 30)\n",
      "('Don', 31)\n",
      "('Dubarry', 32)\n",
      "('Emperors', 33)\n",
      "('Florence', 34)\n",
      "('For', 35)\n",
      "('Gallery', 36)\n",
      "('Gideon', 37)\n",
      "('Gisburn', 38)\n",
      "('Gisburns', 39)\n",
      "('Grafton', 40)\n",
      "('Greek', 41)\n",
      "('Grindle', 42)\n",
      "('Grindles', 43)\n",
      "('HAD', 44)\n",
      "('Had', 45)\n",
      "('Hang', 46)\n",
      "('Has', 47)\n",
      "('He', 48)\n",
      "('Her', 49)\n",
      "('Hermia', 50)\n"
     ]
    }
   ],
   "source": [
    "for i, item in enumerate(vocab.items()):\n",
    "    print(item)\n",
    "    if i >= 50:\n",
    "        break"
   ]
  },
  {
   "cell_type": "code",
   "execution_count": 11,
   "id": "9b01e011-f6f6-4918-af7d-cd22ba701af0",
   "metadata": {},
   "outputs": [],
   "source": [
    "class SimpleTokenizerV1:\n",
    "    def __init__(self, vocab):\n",
    "        self.str_to_int = vocab\n",
    "        self.int_to_str = {i:s for s, i in vocab.items()} # Take every string (token) and integer (token id) from the vocabulary and flip it\n",
    "\n",
    "    def encode(self, text):    # Takes tokens from prepreprocessed and converts them into id-s\n",
    "        preprocessed = re.split(r'([,.:;?_!\"()\\']|--|\\s)', text)\n",
    "\n",
    "        preprocessed = [\n",
    "            item.strip() for item in preprocessed if item.strip() \n",
    "        ]\n",
    "        ids = [self.str_to_int[s] for s in preprocessed]\n",
    "        return ids    \n",
    "\n",
    "    def decode(self, ids):    # Converting token id-s into tokens\n",
    "        text = \" \".join([self.int_to_str[i] for i in ids])\n",
    "        # Replace spaces before the specified functions\n",
    "        text = re.sub(r'\\s+([,.?!\"()\\'])', r'\\1', text)\n",
    "        return text"
   ]
  },
  {
   "cell_type": "code",
   "execution_count": 12,
   "id": "5e93b118-1382-4c22-ac0d-769274f6603d",
   "metadata": {},
   "outputs": [
    {
     "name": "stdout",
     "output_type": "stream",
     "text": [
      "[1, 56, 2, 850, 988, 602, 533, 746, 5, 1126, 596, 5, 1, 66, 2, 850, 38, 851, 1108, 754, 793, 7]\n"
     ]
    }
   ],
   "source": [
    "tokenizer = SimpleTokenizerV1(vocab)\n",
    "\n",
    "text = \"\"\"\"It's the last he painted, you know,\"\n",
    "           Mr's Gisburn said with pardonable pride.\"\"\"\n",
    "ids = tokenizer.encode(text)\n",
    "print(ids)"
   ]
  },
  {
   "cell_type": "code",
   "execution_count": 13,
   "id": "e3f1a12d-a287-47d4-af8b-18b6d5636bbb",
   "metadata": {},
   "outputs": [
    {
     "data": {
      "text/plain": [
       "'\" It\\' s the last he painted, you know,\" Mr\\' s Gisburn said with pardonable pride.'"
      ]
     },
     "execution_count": 13,
     "metadata": {},
     "output_type": "execute_result"
    }
   ],
   "source": [
    "tokenizer.decode(ids)"
   ]
  },
  {
   "cell_type": "code",
   "execution_count": 15,
   "id": "58c31107-6bfc-4c31-b61b-d60cd552448c",
   "metadata": {},
   "outputs": [
    {
     "ename": "KeyError",
     "evalue": "'Hello'",
     "output_type": "error",
     "traceback": [
      "\u001b[1;31m---------------------------------------------------------------------------\u001b[0m",
      "\u001b[1;31mKeyError\u001b[0m                                  Traceback (most recent call last)",
      "Cell \u001b[1;32mIn[15], line 2\u001b[0m\n\u001b[0;32m      1\u001b[0m text \u001b[38;5;241m=\u001b[39m \u001b[38;5;124m'\u001b[39m\u001b[38;5;124mHello, Do you like tea?\u001b[39m\u001b[38;5;124m'\u001b[39m\n\u001b[1;32m----> 2\u001b[0m \u001b[38;5;28mprint\u001b[39m(tokenizer\u001b[38;5;241m.\u001b[39mencode(text))\n",
      "Cell \u001b[1;32mIn[11], line 12\u001b[0m, in \u001b[0;36mSimpleTokenizerV1.encode\u001b[1;34m(self, text)\u001b[0m\n\u001b[0;32m      7\u001b[0m preprocessed \u001b[38;5;241m=\u001b[39m re\u001b[38;5;241m.\u001b[39msplit(\u001b[38;5;124mr\u001b[39m\u001b[38;5;124m'\u001b[39m\u001b[38;5;124m([,.:;?_!\u001b[39m\u001b[38;5;124m\"\u001b[39m\u001b[38;5;124m()\u001b[39m\u001b[38;5;130;01m\\'\u001b[39;00m\u001b[38;5;124m]|--|\u001b[39m\u001b[38;5;124m\\\u001b[39m\u001b[38;5;124ms)\u001b[39m\u001b[38;5;124m'\u001b[39m, text)\n\u001b[0;32m      9\u001b[0m preprocessed \u001b[38;5;241m=\u001b[39m [\n\u001b[0;32m     10\u001b[0m     item\u001b[38;5;241m.\u001b[39mstrip() \u001b[38;5;28;01mfor\u001b[39;00m item \u001b[38;5;129;01min\u001b[39;00m preprocessed \u001b[38;5;28;01mif\u001b[39;00m item\u001b[38;5;241m.\u001b[39mstrip() \n\u001b[0;32m     11\u001b[0m ]\n\u001b[1;32m---> 12\u001b[0m ids \u001b[38;5;241m=\u001b[39m [\u001b[38;5;28mself\u001b[39m\u001b[38;5;241m.\u001b[39mstr_to_int[s] \u001b[38;5;28;01mfor\u001b[39;00m s \u001b[38;5;129;01min\u001b[39;00m preprocessed]\n\u001b[0;32m     13\u001b[0m \u001b[38;5;28;01mreturn\u001b[39;00m ids\n",
      "Cell \u001b[1;32mIn[11], line 12\u001b[0m, in \u001b[0;36m<listcomp>\u001b[1;34m(.0)\u001b[0m\n\u001b[0;32m      7\u001b[0m preprocessed \u001b[38;5;241m=\u001b[39m re\u001b[38;5;241m.\u001b[39msplit(\u001b[38;5;124mr\u001b[39m\u001b[38;5;124m'\u001b[39m\u001b[38;5;124m([,.:;?_!\u001b[39m\u001b[38;5;124m\"\u001b[39m\u001b[38;5;124m()\u001b[39m\u001b[38;5;130;01m\\'\u001b[39;00m\u001b[38;5;124m]|--|\u001b[39m\u001b[38;5;124m\\\u001b[39m\u001b[38;5;124ms)\u001b[39m\u001b[38;5;124m'\u001b[39m, text)\n\u001b[0;32m      9\u001b[0m preprocessed \u001b[38;5;241m=\u001b[39m [\n\u001b[0;32m     10\u001b[0m     item\u001b[38;5;241m.\u001b[39mstrip() \u001b[38;5;28;01mfor\u001b[39;00m item \u001b[38;5;129;01min\u001b[39;00m preprocessed \u001b[38;5;28;01mif\u001b[39;00m item\u001b[38;5;241m.\u001b[39mstrip() \n\u001b[0;32m     11\u001b[0m ]\n\u001b[1;32m---> 12\u001b[0m ids \u001b[38;5;241m=\u001b[39m [\u001b[38;5;28mself\u001b[39m\u001b[38;5;241m.\u001b[39mstr_to_int[s] \u001b[38;5;28;01mfor\u001b[39;00m s \u001b[38;5;129;01min\u001b[39;00m preprocessed]\n\u001b[0;32m     13\u001b[0m \u001b[38;5;28;01mreturn\u001b[39;00m ids\n",
      "\u001b[1;31mKeyError\u001b[0m: 'Hello'"
     ]
    }
   ],
   "source": [
    "text = 'Hello, Do you like tea?'\n",
    "print(tokenizer.encode(text))"
   ]
  },
  {
   "cell_type": "markdown",
   "id": "9f42072f-e03b-4ca0-a064-a070d046e073",
   "metadata": {},
   "source": [
    "##### Word 'Hello' is not into our vocabulary\n",
    "\n",
    "---"
   ]
  },
  {
   "cell_type": "markdown",
   "id": "9b34cbbe-febf-4eeb-ac7c-22b1db3aeced",
   "metadata": {},
   "source": [
    "<div class='alert alert-block alert-info'>\n",
    "    \n",
    "## Adding special context tokens\n",
    "\n",
    "The purpose is to modify this tokenizer to handle unknown words.\n",
    "\n",
    "    <|unk|> : Stores unknown tokens. Example: The fox chased dog\n",
    "                                               0   1     2    3\n",
    "\n",
    "                                              The fox chased dog quickly\n",
    "                                               0   1     2    3     783*\n",
    "\n",
    "    <|endoftext|> : When we have multiple text sources, on example 3 books\n",
    "\n",
    "</div>"
   ]
  },
  {
   "cell_type": "code",
   "execution_count": 16,
   "id": "b652103d-437e-4c3e-8bd1-c2c13149e3e0",
   "metadata": {},
   "outputs": [],
   "source": [
    "all_tokens = sorted(list(set(preprocessed)))\n",
    "all_tokens.extend(['<|endoftext|>', '<|unk|>'])\n",
    "\n",
    "vocab = {token:integer for integer, token in enumerate(all_tokens)}"
   ]
  },
  {
   "cell_type": "code",
   "execution_count": 17,
   "id": "a49eb1a0-75ba-4848-ab86-0a67111110f2",
   "metadata": {},
   "outputs": [
    {
     "data": {
      "text/plain": [
       "1132"
      ]
     },
     "execution_count": 17,
     "metadata": {},
     "output_type": "execute_result"
    }
   ],
   "source": [
    "len(vocab.items())"
   ]
  },
  {
   "cell_type": "code",
   "execution_count": 18,
   "id": "d93abd74-e387-4569-acff-22d321c1aab9",
   "metadata": {},
   "outputs": [
    {
     "name": "stdout",
     "output_type": "stream",
     "text": [
      "('younger', 1127)\n",
      "('your', 1128)\n",
      "('yourself', 1129)\n",
      "('<|endoftext|>', 1130)\n",
      "('<|unk|>', 1131)\n"
     ]
    }
   ],
   "source": [
    "for i, item in enumerate(list(vocab.items())[-5:]):\n",
    "    print(item)"
   ]
  },
  {
   "cell_type": "code",
   "execution_count": 19,
   "id": "bd993ecd-14f0-42b5-a1b3-b216b8ad49b0",
   "metadata": {},
   "outputs": [],
   "source": [
    "class SimpleTokenizerV2:\n",
    "    def __init__(self, vocab):\n",
    "        self.str_to_int = vocab\n",
    "        self.int_to_str = {i:s for s, i in vocab.items()} # Take every string (token) and integer (token id) from the vocabulary and flip it\n",
    "\n",
    "    def encode(self, text):    # Takes tokens from prepreprocessed and converts them into id-s\n",
    "        preprocessed = re.split(r'([,.:;?_!\"()\\']|--|\\s)', text)\n",
    "        preprocessed = [\n",
    "            item.strip() for item in preprocessed if item.strip() \n",
    "        ]\n",
    "        preprocessed = [\n",
    "            item if item in self.str_to_int\n",
    "            else \"<|unk|>\" for item in preprocessed\n",
    "        ]\n",
    "        \n",
    "        ids = [self.str_to_int[s] for s in preprocessed]\n",
    "        return ids    \n",
    "\n",
    "    def decode(self, ids):    # Converting token id-s into tokens\n",
    "        text = \" \".join([self.int_to_str[i] for i in ids])\n",
    "        # Replace spaces before the specified functions\n",
    "        text = re.sub(r'\\s+([,.?!\"()\\'])', r'\\1', text)\n",
    "        return text"
   ]
  },
  {
   "cell_type": "code",
   "execution_count": 20,
   "id": "5a57b59f-7731-483f-b7dd-23e14fc3e49c",
   "metadata": {},
   "outputs": [
    {
     "name": "stdout",
     "output_type": "stream",
     "text": [
      "Hello, do you like tea? <|endoftext|> In the sunlit terraces of the palace.\n"
     ]
    }
   ],
   "source": [
    "tokenizer = SimpleTokenizerV2(vocab)\n",
    "\n",
    "text1 = 'Hello, do you like tea?'\n",
    "text2 = 'In the sunlit terraces of the palace.'\n",
    "\n",
    "text = \" <|endoftext|> \".join((text1, text2))\n",
    "\n",
    "print(text)"
   ]
  },
  {
   "cell_type": "code",
   "execution_count": 21,
   "id": "62f109bb-2256-4732-acef-eb382c3cd1a5",
   "metadata": {},
   "outputs": [
    {
     "data": {
      "text/plain": [
       "[1131, 5, 355, 1126, 628, 975, 10, 1130, 55, 988, 956, 984, 722, 988, 1131, 7]"
      ]
     },
     "execution_count": 21,
     "metadata": {},
     "output_type": "execute_result"
    }
   ],
   "source": [
    "tokenizer.encode(text)"
   ]
  },
  {
   "cell_type": "code",
   "execution_count": 22,
   "id": "f78167e7-53b9-48b8-b10a-7e32aeccd3a0",
   "metadata": {},
   "outputs": [
    {
     "data": {
      "text/plain": [
       "'<|unk|>, do you like tea? <|endoftext|> In the sunlit terraces of the <|unk|>.'"
      ]
     },
     "execution_count": 22,
     "metadata": {},
     "output_type": "execute_result"
    }
   ],
   "source": [
    "tokenizer.decode(tokenizer.encode(text))"
   ]
  },
  {
   "cell_type": "code",
   "execution_count": 23,
   "id": "208d68a7-d821-4f5c-a303-b824c712bc29",
   "metadata": {},
   "outputs": [
    {
     "name": "stdout",
     "output_type": "stream",
     "text": [
      "Requirement already satisfied: tiktoken in c:\\users\\jovan\\anaconda3\\lib\\site-packages (0.9.0)\n",
      "Requirement already satisfied: regex>=2022.1.18 in c:\\users\\jovan\\anaconda3\\lib\\site-packages (from tiktoken) (2023.10.3)\n",
      "Requirement already satisfied: requests>=2.26.0 in c:\\users\\jovan\\anaconda3\\lib\\site-packages (from tiktoken) (2.31.0)\n",
      "Requirement already satisfied: charset-normalizer<4,>=2 in c:\\users\\jovan\\anaconda3\\lib\\site-packages (from requests>=2.26.0->tiktoken) (2.0.4)\n",
      "Requirement already satisfied: idna<4,>=2.5 in c:\\users\\jovan\\anaconda3\\lib\\site-packages (from requests>=2.26.0->tiktoken) (3.4)\n",
      "Requirement already satisfied: urllib3<3,>=1.21.1 in c:\\users\\jovan\\anaconda3\\lib\\site-packages (from requests>=2.26.0->tiktoken) (2.0.7)\n",
      "Requirement already satisfied: certifi>=2017.4.17 in c:\\users\\jovan\\anaconda3\\lib\\site-packages (from requests>=2.26.0->tiktoken) (2024.12.14)\n"
     ]
    }
   ],
   "source": [
    "! pip3 install tiktoken "
   ]
  },
  {
   "cell_type": "code",
   "execution_count": 26,
   "id": "9f2ef505-2bc0-4894-94e9-7ece1e419a03",
   "metadata": {},
   "outputs": [
    {
     "name": "stdout",
     "output_type": "stream",
     "text": [
      "tiktoken version:  0.9.0\n"
     ]
    }
   ],
   "source": [
    "import importlib\n",
    "import tiktoken\n",
    "\n",
    "print('tiktoken version: ', importlib.metadata.version('tiktoken'))"
   ]
  },
  {
   "cell_type": "code",
   "execution_count": 27,
   "id": "5455ab9c-4c5e-4c7b-aaff-0ce45d140a5a",
   "metadata": {},
   "outputs": [],
   "source": [
    "tokenizer = tiktoken.get_encoding('gpt2')"
   ]
  },
  {
   "cell_type": "code",
   "execution_count": 28,
   "id": "8806252c-d035-4aed-b0b6-e915c4aba113",
   "metadata": {},
   "outputs": [
    {
     "name": "stdout",
     "output_type": "stream",
     "text": [
      "[15496, 11, 466, 345, 588, 8887, 30, 220, 50256, 554, 262, 4252, 18250, 8812, 2114, 1659, 617, 34680, 27271, 13]\n"
     ]
    }
   ],
   "source": [
    "text = (\n",
    "    \"Hello, do you like tea? <|endoftext|> In the sunlit terraces\"\n",
    "    \"of someunknownPlace.\"\n",
    ")\n",
    "\n",
    "integers = tokenizer.encode(text, allowed_special = {\"<|endoftext|>\"})\n",
    "\n",
    "print(integers)"
   ]
  },
  {
   "cell_type": "code",
   "execution_count": 29,
   "id": "81212f04-8fa5-413b-80a8-8b618c3147ad",
   "metadata": {},
   "outputs": [
    {
     "name": "stdout",
     "output_type": "stream",
     "text": [
      "Hello, do you like tea? <|endoftext|> In the sunlit terracesof someunknownPlace.\n"
     ]
    }
   ],
   "source": [
    "strings = tokenizer.decode(integers)\n",
    "\n",
    "print(strings)"
   ]
  },
  {
   "cell_type": "code",
   "execution_count": 30,
   "id": "7e5a10f5-c60e-43a4-8562-5e4fc1339f34",
   "metadata": {},
   "outputs": [
    {
     "name": "stdout",
     "output_type": "stream",
     "text": [
      "[33901, 86, 343, 86, 220, 959]\n",
      "Akwirw ier\n"
     ]
    }
   ],
   "source": [
    "integers = tokenizer.encode(\"Akwirw ier\")\n",
    "print(integers)\n",
    "\n",
    "strings = tokenizer.decode(integers)\n",
    "print(strings)"
   ]
  },
  {
   "cell_type": "markdown",
   "id": "700ec43a-2647-4481-b71a-aa2a7c12e415",
   "metadata": {},
   "source": [
    "### Creating input-target pairs"
   ]
  },
  {
   "cell_type": "code",
   "execution_count": 31,
   "id": "cde151cb-0908-4525-a796-e1e173870b0d",
   "metadata": {},
   "outputs": [
    {
     "name": "stdout",
     "output_type": "stream",
     "text": [
      "5145\n"
     ]
    }
   ],
   "source": [
    "with open(\"the-verdict.txt\", \"r\", encoding = \"utf-8\") as f:\n",
    "    raw_text = f.read()\n",
    "\n",
    "enc_text = tokenizer.encode(raw_text)\n",
    "print(len(enc_text))"
   ]
  },
  {
   "cell_type": "code",
   "execution_count": 32,
   "id": "c1fc62de-6111-47ff-a099-c88add8245a5",
   "metadata": {},
   "outputs": [],
   "source": [
    "enc_sample = enc_text[50:]"
   ]
  },
  {
   "cell_type": "code",
   "execution_count": 33,
   "id": "4ad44aa5-0289-40c2-a9f1-2774690e24c2",
   "metadata": {},
   "outputs": [
    {
     "name": "stdout",
     "output_type": "stream",
     "text": [
      "x: [290, 4920, 2241, 287]\n",
      "y:    [4920, 2241, 287, 257]\n"
     ]
    }
   ],
   "source": [
    "context_size = 4\n",
    "\n",
    "x = enc_sample[:context_size]\n",
    "y = enc_sample[1:context_size+1]\n",
    "\n",
    "print(f\"x: {x}\")\n",
    "print(f\"y:    {y}\")"
   ]
  },
  {
   "cell_type": "code",
   "execution_count": 34,
   "id": "57ede640-afd5-480f-ad7d-cf98a4245e76",
   "metadata": {},
   "outputs": [
    {
     "name": "stdout",
     "output_type": "stream",
     "text": [
      "[290] ----> 4920\n",
      "[290, 4920] ----> 2241\n",
      "[290, 4920, 2241] ----> 287\n",
      "[290, 4920, 2241, 287] ----> 257\n"
     ]
    }
   ],
   "source": [
    "for i in range(1, context_size+1):\n",
    "    context = enc_sample[:i]\n",
    "    desired = enc_sample[i]\n",
    "\n",
    "    print(context, \"---->\", desired)"
   ]
  },
  {
   "cell_type": "code",
   "execution_count": 36,
   "id": "f6e0d827-08d5-4906-86d5-b1a2c348b832",
   "metadata": {},
   "outputs": [
    {
     "name": "stdout",
     "output_type": "stream",
     "text": [
      " and ---->  established\n",
      " and established ---->  himself\n",
      " and established himself ---->  in\n",
      " and established himself in ---->  a\n"
     ]
    }
   ],
   "source": [
    "for i in range(1, context_size+1):\n",
    "    context = enc_sample[:i]\n",
    "    desired = enc_sample[i]\n",
    "\n",
    "    print(tokenizer.decode(context), \"---->\", tokenizer.decode([desired]))"
   ]
  },
  {
   "cell_type": "code",
   "execution_count": 37,
   "id": "4dc91b62-d97a-4746-ab85-3300a3323003",
   "metadata": {},
   "outputs": [
    {
     "ename": "ModuleNotFoundError",
     "evalue": "No module named 'torch'",
     "output_type": "error",
     "traceback": [
      "\u001b[1;31m---------------------------------------------------------------------------\u001b[0m",
      "\u001b[1;31mModuleNotFoundError\u001b[0m                       Traceback (most recent call last)",
      "Cell \u001b[1;32mIn[37], line 1\u001b[0m\n\u001b[1;32m----> 1\u001b[0m \u001b[38;5;28;01mfrom\u001b[39;00m \u001b[38;5;21;01mtorch\u001b[39;00m\u001b[38;5;21;01m.\u001b[39;00m\u001b[38;5;21;01mutils\u001b[39;00m\u001b[38;5;21;01m.\u001b[39;00m\u001b[38;5;21;01mdata\u001b[39;00m \u001b[38;5;28;01mimport\u001b[39;00m Dataset\n",
      "\u001b[1;31mModuleNotFoundError\u001b[0m: No module named 'torch'"
     ]
    }
   ],
   "source": [
    "from torch.utils.data import Dataset"
   ]
  },
  {
   "cell_type": "code",
   "execution_count": 39,
   "id": "e33fbc75-d17f-4985-86dd-922bef48e2b3",
   "metadata": {},
   "outputs": [
    {
     "name": "stdout",
     "output_type": "stream",
     "text": [
      "Collecting torch\n",
      "  Downloading torch-2.6.0-cp311-cp311-win_amd64.whl.metadata (28 kB)\n",
      "Collecting torchvision\n",
      "  Downloading torchvision-0.21.0-cp311-cp311-win_amd64.whl.metadata (6.3 kB)\n",
      "Collecting torchaudio\n",
      "  Downloading torchaudio-2.6.0-cp311-cp311-win_amd64.whl.metadata (6.7 kB)\n",
      "Requirement already satisfied: filelock in c:\\users\\jovan\\anaconda3\\lib\\site-packages (from torch) (3.13.1)\n",
      "Collecting typing-extensions>=4.10.0 (from torch)\n",
      "  Using cached typing_extensions-4.12.2-py3-none-any.whl.metadata (3.0 kB)\n",
      "Requirement already satisfied: networkx in c:\\users\\jovan\\anaconda3\\lib\\site-packages (from torch) (3.1)\n",
      "Requirement already satisfied: jinja2 in c:\\users\\jovan\\anaconda3\\lib\\site-packages (from torch) (3.1.3)\n",
      "Requirement already satisfied: fsspec in c:\\users\\jovan\\anaconda3\\lib\\site-packages (from torch) (2023.10.0)\n",
      "Collecting sympy==1.13.1 (from torch)\n",
      "  Downloading sympy-1.13.1-py3-none-any.whl.metadata (12 kB)\n",
      "Requirement already satisfied: mpmath<1.4,>=1.1.0 in c:\\users\\jovan\\anaconda3\\lib\\site-packages (from sympy==1.13.1->torch) (1.3.0)\n",
      "Requirement already satisfied: numpy in c:\\users\\jovan\\anaconda3\\lib\\site-packages (from torchvision) (1.26.4)\n",
      "Requirement already satisfied: pillow!=8.3.*,>=5.3.0 in c:\\users\\jovan\\anaconda3\\lib\\site-packages (from torchvision) (10.2.0)\n",
      "Requirement already satisfied: MarkupSafe>=2.0 in c:\\users\\jovan\\anaconda3\\lib\\site-packages (from jinja2->torch) (2.1.3)\n",
      "Downloading torch-2.6.0-cp311-cp311-win_amd64.whl (204.2 MB)\n",
      "   ---------------------------------------- 0.0/204.2 MB ? eta -:--:--\n",
      "   ---------------------------------------- 0.3/204.2 MB 5.9 MB/s eta 0:00:35\n",
      "   ---------------------------------------- 0.6/204.2 MB 6.6 MB/s eta 0:00:31\n",
      "   ---------------------------------------- 1.1/204.2 MB 7.7 MB/s eta 0:00:27\n",
      "   ---------------------------------------- 1.6/204.2 MB 8.3 MB/s eta 0:00:25\n",
      "   ---------------------------------------- 2.1/204.2 MB 9.0 MB/s eta 0:00:23\n",
      "    --------------------------------------- 2.7/204.2 MB 9.4 MB/s eta 0:00:22\n",
      "    --------------------------------------- 3.2/204.2 MB 9.8 MB/s eta 0:00:21\n",
      "    --------------------------------------- 3.7/204.2 MB 10.4 MB/s eta 0:00:20\n",
      "    --------------------------------------- 4.3/204.2 MB 10.2 MB/s eta 0:00:20\n",
      "    --------------------------------------- 4.9/204.2 MB 10.4 MB/s eta 0:00:20\n",
      "   - -------------------------------------- 5.4/204.2 MB 10.5 MB/s eta 0:00:20\n",
      "   - -------------------------------------- 6.0/204.2 MB 10.6 MB/s eta 0:00:19\n",
      "   - -------------------------------------- 6.5/204.2 MB 10.7 MB/s eta 0:00:19\n",
      "   - -------------------------------------- 7.1/204.2 MB 10.8 MB/s eta 0:00:19\n",
      "   - -------------------------------------- 7.6/204.2 MB 11.0 MB/s eta 0:00:18\n",
      "   - -------------------------------------- 8.1/204.2 MB 11.1 MB/s eta 0:00:18\n",
      "   - -------------------------------------- 8.7/204.2 MB 11.1 MB/s eta 0:00:18\n",
      "   - -------------------------------------- 9.3/204.2 MB 11.2 MB/s eta 0:00:18\n",
      "   - -------------------------------------- 9.8/204.2 MB 11.2 MB/s eta 0:00:18\n",
      "   - -------------------------------------- 10.2/204.2 MB 11.0 MB/s eta 0:00:18\n",
      "   -- ------------------------------------- 10.6/204.2 MB 11.3 MB/s eta 0:00:18\n",
      "   -- ------------------------------------- 11.1/204.2 MB 11.3 MB/s eta 0:00:18\n",
      "   -- ------------------------------------- 11.6/204.2 MB 11.3 MB/s eta 0:00:18\n",
      "   -- ------------------------------------- 12.0/204.2 MB 11.3 MB/s eta 0:00:18\n",
      "   -- ------------------------------------- 12.5/204.2 MB 11.1 MB/s eta 0:00:18\n",
      "   -- ------------------------------------- 13.0/204.2 MB 11.1 MB/s eta 0:00:18\n",
      "   -- ------------------------------------- 13.5/204.2 MB 11.1 MB/s eta 0:00:18\n",
      "   -- ------------------------------------- 14.1/204.2 MB 11.1 MB/s eta 0:00:18\n",
      "   -- ------------------------------------- 14.7/204.2 MB 11.1 MB/s eta 0:00:18\n",
      "   -- ------------------------------------- 15.2/204.2 MB 11.1 MB/s eta 0:00:18\n",
      "   --- ------------------------------------ 15.7/204.2 MB 11.1 MB/s eta 0:00:17\n",
      "   --- ------------------------------------ 16.3/204.2 MB 11.1 MB/s eta 0:00:17\n",
      "   --- ------------------------------------ 16.9/204.2 MB 11.1 MB/s eta 0:00:17\n",
      "   --- ------------------------------------ 17.4/204.2 MB 11.1 MB/s eta 0:00:17\n",
      "   --- ------------------------------------ 18.0/204.2 MB 11.1 MB/s eta 0:00:17\n",
      "   --- ------------------------------------ 18.5/204.2 MB 11.1 MB/s eta 0:00:17\n",
      "   --- ------------------------------------ 19.0/204.2 MB 11.1 MB/s eta 0:00:17\n",
      "   --- ------------------------------------ 19.6/204.2 MB 11.1 MB/s eta 0:00:17\n",
      "   --- ------------------------------------ 20.0/204.2 MB 11.1 MB/s eta 0:00:17\n",
      "   --- ------------------------------------ 20.4/204.2 MB 10.9 MB/s eta 0:00:17\n",
      "   ---- ----------------------------------- 20.9/204.2 MB 10.9 MB/s eta 0:00:17\n",
      "   ---- ----------------------------------- 21.4/204.2 MB 11.1 MB/s eta 0:00:17\n",
      "   ---- ----------------------------------- 21.9/204.2 MB 11.1 MB/s eta 0:00:17\n",
      "   ---- ----------------------------------- 22.4/204.2 MB 11.1 MB/s eta 0:00:17\n",
      "   ---- ----------------------------------- 23.0/204.2 MB 11.3 MB/s eta 0:00:17\n",
      "   ---- ----------------------------------- 23.4/204.2 MB 11.1 MB/s eta 0:00:17\n",
      "   ---- ----------------------------------- 23.9/204.2 MB 11.1 MB/s eta 0:00:17\n",
      "   ---- ----------------------------------- 24.4/204.2 MB 10.9 MB/s eta 0:00:17\n",
      "   ---- ----------------------------------- 24.9/204.2 MB 10.9 MB/s eta 0:00:17\n",
      "   ---- ----------------------------------- 25.5/204.2 MB 10.9 MB/s eta 0:00:17\n",
      "   ----- ---------------------------------- 26.0/204.2 MB 10.9 MB/s eta 0:00:17\n",
      "   ----- ---------------------------------- 26.6/204.2 MB 10.9 MB/s eta 0:00:17\n",
      "   ----- ---------------------------------- 27.1/204.2 MB 10.9 MB/s eta 0:00:17\n",
      "   ----- ---------------------------------- 27.7/204.2 MB 10.9 MB/s eta 0:00:17\n",
      "   ----- ---------------------------------- 28.2/204.2 MB 10.9 MB/s eta 0:00:17\n",
      "   ----- ---------------------------------- 28.8/204.2 MB 10.9 MB/s eta 0:00:17\n",
      "   ----- ---------------------------------- 29.3/204.2 MB 10.9 MB/s eta 0:00:17\n",
      "   ----- ---------------------------------- 29.7/204.2 MB 10.9 MB/s eta 0:00:16\n",
      "   ----- ---------------------------------- 30.3/204.2 MB 11.1 MB/s eta 0:00:16\n",
      "   ------ --------------------------------- 30.8/204.2 MB 11.1 MB/s eta 0:00:16\n",
      "   ------ --------------------------------- 31.4/204.2 MB 11.1 MB/s eta 0:00:16\n",
      "   ------ --------------------------------- 31.9/204.2 MB 11.3 MB/s eta 0:00:16\n",
      "   ------ --------------------------------- 32.4/204.2 MB 11.3 MB/s eta 0:00:16\n",
      "   ------ --------------------------------- 33.0/204.2 MB 11.3 MB/s eta 0:00:16\n",
      "   ------ --------------------------------- 33.4/204.2 MB 11.3 MB/s eta 0:00:16\n",
      "   ------ --------------------------------- 33.9/204.2 MB 11.3 MB/s eta 0:00:16\n",
      "   ------ --------------------------------- 34.5/204.2 MB 11.5 MB/s eta 0:00:15\n",
      "   ------ --------------------------------- 35.1/204.2 MB 11.3 MB/s eta 0:00:15\n",
      "   ------ --------------------------------- 35.6/204.2 MB 11.3 MB/s eta 0:00:15\n",
      "   ------- -------------------------------- 36.1/204.2 MB 11.3 MB/s eta 0:00:15\n",
      "   ------- -------------------------------- 36.5/204.2 MB 11.3 MB/s eta 0:00:15\n",
      "   ------- -------------------------------- 37.1/204.2 MB 11.3 MB/s eta 0:00:15\n",
      "   ------- -------------------------------- 37.6/204.2 MB 11.1 MB/s eta 0:00:16\n",
      "   ------- -------------------------------- 38.1/204.2 MB 11.1 MB/s eta 0:00:15\n",
      "   ------- -------------------------------- 38.6/204.2 MB 11.1 MB/s eta 0:00:15\n",
      "   ------- -------------------------------- 39.0/204.2 MB 10.9 MB/s eta 0:00:16\n",
      "   ------- -------------------------------- 39.5/204.2 MB 10.9 MB/s eta 0:00:16\n",
      "   ------- -------------------------------- 40.0/204.2 MB 10.9 MB/s eta 0:00:16\n",
      "   ------- -------------------------------- 40.5/204.2 MB 10.9 MB/s eta 0:00:15\n",
      "   ------- -------------------------------- 40.8/204.2 MB 10.7 MB/s eta 0:00:16\n",
      "   -------- ------------------------------- 41.2/204.2 MB 10.6 MB/s eta 0:00:16\n",
      "   -------- ------------------------------- 41.7/204.2 MB 10.7 MB/s eta 0:00:16\n",
      "   -------- ------------------------------- 42.3/204.2 MB 10.7 MB/s eta 0:00:16\n",
      "   -------- ------------------------------- 42.7/204.2 MB 10.6 MB/s eta 0:00:16\n",
      "   -------- ------------------------------- 43.0/204.2 MB 10.2 MB/s eta 0:00:16\n",
      "   -------- ------------------------------- 43.3/204.2 MB 10.1 MB/s eta 0:00:16\n",
      "   -------- ------------------------------- 43.8/204.2 MB 10.2 MB/s eta 0:00:16\n",
      "   -------- ------------------------------- 44.2/204.2 MB 10.1 MB/s eta 0:00:16\n",
      "   -------- ------------------------------- 44.5/204.2 MB 9.9 MB/s eta 0:00:17\n",
      "   -------- ------------------------------- 45.0/204.2 MB 9.8 MB/s eta 0:00:17\n",
      "   -------- ------------------------------- 45.5/204.2 MB 9.8 MB/s eta 0:00:17\n",
      "   --------- ------------------------------ 45.9/204.2 MB 9.6 MB/s eta 0:00:17\n",
      "   --------- ------------------------------ 46.4/204.2 MB 9.6 MB/s eta 0:00:17\n",
      "   --------- ------------------------------ 46.9/204.2 MB 9.6 MB/s eta 0:00:17\n",
      "   --------- ------------------------------ 47.4/204.2 MB 9.6 MB/s eta 0:00:17\n",
      "   --------- ------------------------------ 47.7/204.2 MB 9.5 MB/s eta 0:00:17\n",
      "   --------- ------------------------------ 48.2/204.2 MB 9.6 MB/s eta 0:00:17\n",
      "   --------- ------------------------------ 48.7/204.2 MB 9.5 MB/s eta 0:00:17\n",
      "   --------- ------------------------------ 49.2/204.2 MB 9.6 MB/s eta 0:00:17\n",
      "   --------- ------------------------------ 49.8/204.2 MB 9.6 MB/s eta 0:00:17\n",
      "   --------- ------------------------------ 50.3/204.2 MB 9.6 MB/s eta 0:00:16\n",
      "   --------- ------------------------------ 50.9/204.2 MB 9.8 MB/s eta 0:00:16\n",
      "   ---------- ----------------------------- 51.4/204.2 MB 10.1 MB/s eta 0:00:16\n",
      "   ---------- ----------------------------- 52.0/204.2 MB 9.8 MB/s eta 0:00:16\n",
      "   ---------- ----------------------------- 52.5/204.2 MB 9.8 MB/s eta 0:00:16\n",
      "   ---------- ----------------------------- 52.8/204.2 MB 9.8 MB/s eta 0:00:16\n",
      "   ---------- ----------------------------- 53.4/204.2 MB 10.1 MB/s eta 0:00:15\n",
      "   ---------- ----------------------------- 53.9/204.2 MB 10.2 MB/s eta 0:00:15\n",
      "   ---------- ----------------------------- 54.5/204.2 MB 10.4 MB/s eta 0:00:15\n",
      "   ---------- ----------------------------- 55.0/204.2 MB 10.6 MB/s eta 0:00:15\n",
      "   ---------- ----------------------------- 55.5/204.2 MB 10.6 MB/s eta 0:00:15\n",
      "   ---------- ----------------------------- 55.8/204.2 MB 10.6 MB/s eta 0:00:15\n",
      "   ----------- ---------------------------- 56.3/204.2 MB 10.4 MB/s eta 0:00:15\n",
      "   ----------- ---------------------------- 56.7/204.2 MB 10.2 MB/s eta 0:00:15\n",
      "   ----------- ---------------------------- 57.0/204.2 MB 10.1 MB/s eta 0:00:15\n",
      "   ----------- ---------------------------- 57.5/204.2 MB 10.1 MB/s eta 0:00:15\n",
      "   ----------- ---------------------------- 58.0/204.2 MB 10.2 MB/s eta 0:00:15\n",
      "   ----------- ---------------------------- 58.5/204.2 MB 10.2 MB/s eta 0:00:15\n",
      "   ----------- ---------------------------- 59.1/204.2 MB 10.4 MB/s eta 0:00:14\n",
      "   ----------- ---------------------------- 59.5/204.2 MB 10.2 MB/s eta 0:00:15\n",
      "   ----------- ---------------------------- 60.0/204.2 MB 10.2 MB/s eta 0:00:15\n",
      "   ----------- ---------------------------- 60.4/204.2 MB 10.2 MB/s eta 0:00:15\n",
      "   ----------- ---------------------------- 60.9/204.2 MB 10.1 MB/s eta 0:00:15\n",
      "   ----------- ---------------------------- 61.0/204.2 MB 9.9 MB/s eta 0:00:15\n",
      "   ------------ --------------------------- 61.4/204.2 MB 9.8 MB/s eta 0:00:15\n",
      "   ------------ --------------------------- 61.5/204.2 MB 9.5 MB/s eta 0:00:16\n",
      "   ------------ --------------------------- 61.7/204.2 MB 9.2 MB/s eta 0:00:16\n",
      "   ------------ --------------------------- 62.0/204.2 MB 9.0 MB/s eta 0:00:16\n",
      "   ------------ --------------------------- 62.3/204.2 MB 9.0 MB/s eta 0:00:16\n",
      "   ------------ --------------------------- 62.9/204.2 MB 9.0 MB/s eta 0:00:16\n",
      "   ------------ --------------------------- 63.3/204.2 MB 9.0 MB/s eta 0:00:16\n",
      "   ------------ --------------------------- 63.6/204.2 MB 8.8 MB/s eta 0:00:16\n",
      "   ------------ --------------------------- 64.2/204.2 MB 8.8 MB/s eta 0:00:16\n",
      "   ------------ --------------------------- 64.7/204.2 MB 8.8 MB/s eta 0:00:16\n",
      "   ------------ --------------------------- 65.2/204.2 MB 8.7 MB/s eta 0:00:16\n",
      "   ------------ --------------------------- 65.7/204.2 MB 8.8 MB/s eta 0:00:16\n",
      "   ------------ --------------------------- 66.2/204.2 MB 8.8 MB/s eta 0:00:16\n",
      "   ------------- -------------------------- 66.8/204.2 MB 9.1 MB/s eta 0:00:16\n",
      "   ------------- -------------------------- 67.3/204.2 MB 9.4 MB/s eta 0:00:15\n",
      "   ------------- -------------------------- 67.9/204.2 MB 9.4 MB/s eta 0:00:15\n",
      "   ------------- -------------------------- 68.3/204.2 MB 9.2 MB/s eta 0:00:15\n",
      "   ------------- -------------------------- 68.7/204.2 MB 9.1 MB/s eta 0:00:15\n",
      "   ------------- -------------------------- 68.9/204.2 MB 9.0 MB/s eta 0:00:16\n",
      "   ------------- -------------------------- 69.5/204.2 MB 9.0 MB/s eta 0:00:16\n",
      "   ------------- -------------------------- 69.9/204.2 MB 9.0 MB/s eta 0:00:15\n",
      "   ------------- -------------------------- 70.5/204.2 MB 9.0 MB/s eta 0:00:15\n",
      "   ------------- -------------------------- 71.1/204.2 MB 9.2 MB/s eta 0:00:15\n",
      "   -------------- ------------------------- 71.6/204.2 MB 9.5 MB/s eta 0:00:14\n",
      "   -------------- ------------------------- 72.2/204.2 MB 10.4 MB/s eta 0:00:13\n",
      "   -------------- ------------------------- 72.7/204.2 MB 10.6 MB/s eta 0:00:13\n",
      "   -------------- ------------------------- 73.3/204.2 MB 10.7 MB/s eta 0:00:13\n",
      "   -------------- ------------------------- 73.8/204.2 MB 10.9 MB/s eta 0:00:12\n",
      "   -------------- ------------------------- 74.4/204.2 MB 10.9 MB/s eta 0:00:12\n",
      "   -------------- ------------------------- 75.0/204.2 MB 11.1 MB/s eta 0:00:12\n",
      "   -------------- ------------------------- 75.5/204.2 MB 11.1 MB/s eta 0:00:12\n",
      "   -------------- ------------------------- 76.0/204.2 MB 11.1 MB/s eta 0:00:12\n",
      "   --------------- ------------------------ 76.6/204.2 MB 11.1 MB/s eta 0:00:12\n",
      "   --------------- ------------------------ 77.2/204.2 MB 11.1 MB/s eta 0:00:12\n",
      "   --------------- ------------------------ 77.7/204.2 MB 11.1 MB/s eta 0:00:12\n",
      "   --------------- ------------------------ 78.2/204.2 MB 11.1 MB/s eta 0:00:12\n",
      "   --------------- ------------------------ 78.8/204.2 MB 11.3 MB/s eta 0:00:12\n",
      "   --------------- ------------------------ 79.3/204.2 MB 11.7 MB/s eta 0:00:11\n",
      "   --------------- ------------------------ 79.9/204.2 MB 11.9 MB/s eta 0:00:11\n",
      "   --------------- ------------------------ 80.4/204.2 MB 11.9 MB/s eta 0:00:11\n",
      "   --------------- ------------------------ 81.0/204.2 MB 11.9 MB/s eta 0:00:11\n",
      "   --------------- ------------------------ 81.5/204.2 MB 11.9 MB/s eta 0:00:11\n",
      "   ---------------- ----------------------- 82.1/204.2 MB 11.7 MB/s eta 0:00:11\n",
      "   ---------------- ----------------------- 82.4/204.2 MB 11.7 MB/s eta 0:00:11\n",
      "   ---------------- ----------------------- 82.9/204.2 MB 11.5 MB/s eta 0:00:11\n",
      "   ---------------- ----------------------- 83.4/204.2 MB 11.5 MB/s eta 0:00:11\n",
      "   ---------------- ----------------------- 84.0/204.2 MB 11.5 MB/s eta 0:00:11\n",
      "   ---------------- ----------------------- 84.5/204.2 MB 11.5 MB/s eta 0:00:11\n",
      "   ---------------- ----------------------- 85.1/204.2 MB 11.5 MB/s eta 0:00:11\n",
      "   ---------------- ----------------------- 85.6/204.2 MB 11.5 MB/s eta 0:00:11\n",
      "   ---------------- ----------------------- 86.1/204.2 MB 11.5 MB/s eta 0:00:11\n",
      "   ---------------- ----------------------- 86.7/204.2 MB 11.5 MB/s eta 0:00:11\n",
      "   ----------------- ---------------------- 87.3/204.2 MB 11.5 MB/s eta 0:00:11\n",
      "   ----------------- ---------------------- 87.8/204.2 MB 11.5 MB/s eta 0:00:11\n",
      "   ----------------- ---------------------- 88.4/204.2 MB 11.5 MB/s eta 0:00:11\n",
      "   ----------------- ---------------------- 88.9/204.2 MB 11.5 MB/s eta 0:00:11\n",
      "   ----------------- ---------------------- 89.4/204.2 MB 11.3 MB/s eta 0:00:11\n",
      "   ----------------- ---------------------- 89.9/204.2 MB 11.3 MB/s eta 0:00:11\n",
      "   ----------------- ---------------------- 90.3/204.2 MB 11.1 MB/s eta 0:00:11\n",
      "   ----------------- ---------------------- 90.7/204.2 MB 10.9 MB/s eta 0:00:11\n",
      "   ----------------- ---------------------- 91.1/204.2 MB 10.9 MB/s eta 0:00:11\n",
      "   ----------------- ---------------------- 91.7/204.2 MB 10.9 MB/s eta 0:00:11\n",
      "   ------------------ --------------------- 92.3/204.2 MB 10.9 MB/s eta 0:00:11\n",
      "   ------------------ --------------------- 92.8/204.2 MB 11.1 MB/s eta 0:00:11\n",
      "   ------------------ --------------------- 93.3/204.2 MB 11.1 MB/s eta 0:00:10\n",
      "   ------------------ --------------------- 93.9/204.2 MB 11.1 MB/s eta 0:00:10\n",
      "   ------------------ --------------------- 94.4/204.2 MB 11.1 MB/s eta 0:00:10\n",
      "   ------------------ --------------------- 95.0/204.2 MB 11.1 MB/s eta 0:00:10\n",
      "   ------------------ --------------------- 95.5/204.2 MB 11.1 MB/s eta 0:00:10\n",
      "   ------------------ --------------------- 96.1/204.2 MB 11.1 MB/s eta 0:00:10\n",
      "   ------------------ --------------------- 96.6/204.2 MB 11.1 MB/s eta 0:00:10\n",
      "   ------------------- -------------------- 97.2/204.2 MB 11.1 MB/s eta 0:00:10\n",
      "   ------------------- -------------------- 97.7/204.2 MB 11.1 MB/s eta 0:00:10\n",
      "   ------------------- -------------------- 98.3/204.2 MB 11.1 MB/s eta 0:00:10\n",
      "   ------------------- -------------------- 98.8/204.2 MB 11.1 MB/s eta 0:00:10\n",
      "   ------------------- -------------------- 99.4/204.2 MB 11.1 MB/s eta 0:00:10\n",
      "   ------------------- -------------------- 99.9/204.2 MB 11.3 MB/s eta 0:00:10\n",
      "   ------------------- ------------------- 100.5/204.2 MB 11.5 MB/s eta 0:00:10\n",
      "   ------------------- ------------------- 101.0/204.2 MB 11.7 MB/s eta 0:00:09\n",
      "   ------------------- ------------------- 101.6/204.2 MB 11.7 MB/s eta 0:00:09\n",
      "   ------------------- ------------------- 102.1/204.2 MB 11.7 MB/s eta 0:00:09\n",
      "   ------------------- ------------------- 102.7/204.2 MB 11.7 MB/s eta 0:00:09\n",
      "   ------------------- ------------------- 103.2/204.2 MB 11.7 MB/s eta 0:00:09\n",
      "   ------------------- ------------------- 103.8/204.2 MB 11.7 MB/s eta 0:00:09\n",
      "   ------------------- ------------------- 104.3/204.2 MB 11.7 MB/s eta 0:00:09\n",
      "   -------------------- ------------------ 104.9/204.2 MB 11.7 MB/s eta 0:00:09\n",
      "   -------------------- ------------------ 105.3/204.2 MB 11.5 MB/s eta 0:00:09\n",
      "   -------------------- ------------------ 105.7/204.2 MB 11.5 MB/s eta 0:00:09\n",
      "   -------------------- ------------------ 106.3/204.2 MB 11.5 MB/s eta 0:00:09\n",
      "   -------------------- ------------------ 106.7/204.2 MB 11.3 MB/s eta 0:00:09\n",
      "   -------------------- ------------------ 107.3/204.2 MB 11.3 MB/s eta 0:00:09\n",
      "   -------------------- ------------------ 107.8/204.2 MB 11.3 MB/s eta 0:00:09\n",
      "   -------------------- ------------------ 108.4/204.2 MB 11.3 MB/s eta 0:00:09\n",
      "   -------------------- ------------------ 108.9/204.2 MB 11.3 MB/s eta 0:00:09\n",
      "   -------------------- ------------------ 109.5/204.2 MB 11.3 MB/s eta 0:00:09\n",
      "   --------------------- ----------------- 110.0/204.2 MB 11.3 MB/s eta 0:00:09\n",
      "   --------------------- ----------------- 110.6/204.2 MB 11.3 MB/s eta 0:00:09\n",
      "   --------------------- ----------------- 111.1/204.2 MB 11.5 MB/s eta 0:00:09\n",
      "   --------------------- ----------------- 111.6/204.2 MB 11.5 MB/s eta 0:00:09\n",
      "   --------------------- ----------------- 112.2/204.2 MB 11.5 MB/s eta 0:00:09\n",
      "   --------------------- ----------------- 112.7/204.2 MB 11.5 MB/s eta 0:00:08\n",
      "   --------------------- ----------------- 113.3/204.2 MB 11.5 MB/s eta 0:00:08\n",
      "   --------------------- ----------------- 113.9/204.2 MB 11.5 MB/s eta 0:00:08\n",
      "   --------------------- ----------------- 114.4/204.2 MB 11.5 MB/s eta 0:00:08\n",
      "   --------------------- ----------------- 115.0/204.2 MB 11.5 MB/s eta 0:00:08\n",
      "   ---------------------- ---------------- 115.5/204.2 MB 11.7 MB/s eta 0:00:08\n",
      "   ---------------------- ---------------- 116.0/204.2 MB 11.7 MB/s eta 0:00:08\n",
      "   ---------------------- ---------------- 116.6/204.2 MB 11.7 MB/s eta 0:00:08\n",
      "   ---------------------- ---------------- 117.2/204.2 MB 11.7 MB/s eta 0:00:08\n",
      "   ---------------------- ---------------- 117.7/204.2 MB 11.9 MB/s eta 0:00:08\n",
      "   ---------------------- ---------------- 118.3/204.2 MB 11.9 MB/s eta 0:00:08\n",
      "   ---------------------- ---------------- 118.8/204.2 MB 11.9 MB/s eta 0:00:08\n",
      "   ---------------------- ---------------- 119.4/204.2 MB 11.9 MB/s eta 0:00:08\n",
      "   ---------------------- ---------------- 119.9/204.2 MB 11.9 MB/s eta 0:00:08\n",
      "   ----------------------- --------------- 120.5/204.2 MB 11.9 MB/s eta 0:00:08\n",
      "   ----------------------- --------------- 121.0/204.2 MB 11.7 MB/s eta 0:00:08\n",
      "   ----------------------- --------------- 121.4/204.2 MB 11.7 MB/s eta 0:00:08\n",
      "   ----------------------- --------------- 121.9/204.2 MB 11.5 MB/s eta 0:00:08\n",
      "   ----------------------- --------------- 122.3/204.2 MB 11.5 MB/s eta 0:00:08\n",
      "   ----------------------- --------------- 122.9/204.2 MB 11.5 MB/s eta 0:00:08\n",
      "   ----------------------- --------------- 123.4/204.2 MB 11.5 MB/s eta 0:00:08\n",
      "   ----------------------- --------------- 124.0/204.2 MB 11.5 MB/s eta 0:00:07\n",
      "   ----------------------- --------------- 124.5/204.2 MB 11.5 MB/s eta 0:00:07\n",
      "   ----------------------- --------------- 125.1/204.2 MB 11.5 MB/s eta 0:00:07\n",
      "   ----------------------- --------------- 125.6/204.2 MB 11.5 MB/s eta 0:00:07\n",
      "   ------------------------ -------------- 126.2/204.2 MB 11.5 MB/s eta 0:00:07\n",
      "   ------------------------ -------------- 126.7/204.2 MB 11.5 MB/s eta 0:00:07\n",
      "   ------------------------ -------------- 127.3/204.2 MB 11.5 MB/s eta 0:00:07\n",
      "   ------------------------ -------------- 127.8/204.2 MB 11.5 MB/s eta 0:00:07\n",
      "   ------------------------ -------------- 128.4/204.2 MB 11.5 MB/s eta 0:00:07\n",
      "   ------------------------ -------------- 128.9/204.2 MB 11.5 MB/s eta 0:00:07\n",
      "   ------------------------ -------------- 129.5/204.2 MB 11.5 MB/s eta 0:00:07\n",
      "   ------------------------ -------------- 130.0/204.2 MB 11.5 MB/s eta 0:00:07\n",
      "   ------------------------ -------------- 130.6/204.2 MB 11.5 MB/s eta 0:00:07\n",
      "   ------------------------- ------------- 131.1/204.2 MB 11.5 MB/s eta 0:00:07\n",
      "   ------------------------- ------------- 131.7/204.2 MB 11.7 MB/s eta 0:00:07\n",
      "   ------------------------- ------------- 132.2/204.2 MB 11.7 MB/s eta 0:00:07\n",
      "   ------------------------- ------------- 132.8/204.2 MB 11.7 MB/s eta 0:00:07\n",
      "   ------------------------- ------------- 133.3/204.2 MB 11.7 MB/s eta 0:00:07\n",
      "   ------------------------- ------------- 133.9/204.2 MB 11.7 MB/s eta 0:00:07\n",
      "   ------------------------- ------------- 134.4/204.2 MB 11.7 MB/s eta 0:00:06\n",
      "   ------------------------- ------------- 134.9/204.2 MB 11.7 MB/s eta 0:00:06\n",
      "   ------------------------- ------------- 135.5/204.2 MB 11.7 MB/s eta 0:00:06\n",
      "   ------------------------- ------------- 136.0/204.2 MB 11.9 MB/s eta 0:00:06\n",
      "   -------------------------- ------------ 136.6/204.2 MB 11.7 MB/s eta 0:00:06\n",
      "   -------------------------- ------------ 137.2/204.2 MB 11.7 MB/s eta 0:00:06\n",
      "   -------------------------- ------------ 137.7/204.2 MB 11.7 MB/s eta 0:00:06\n",
      "   -------------------------- ------------ 138.3/204.2 MB 11.7 MB/s eta 0:00:06\n",
      "   -------------------------- ------------ 138.8/204.2 MB 11.7 MB/s eta 0:00:06\n",
      "   -------------------------- ------------ 139.3/204.2 MB 11.7 MB/s eta 0:00:06\n",
      "   -------------------------- ------------ 139.9/204.2 MB 11.7 MB/s eta 0:00:06\n",
      "   -------------------------- ------------ 140.5/204.2 MB 11.7 MB/s eta 0:00:06\n",
      "   -------------------------- ------------ 140.9/204.2 MB 11.7 MB/s eta 0:00:06\n",
      "   --------------------------- ----------- 141.5/204.2 MB 11.7 MB/s eta 0:00:06\n",
      "   --------------------------- ----------- 142.1/204.2 MB 11.7 MB/s eta 0:00:06\n",
      "   --------------------------- ----------- 142.6/204.2 MB 11.7 MB/s eta 0:00:06\n",
      "   --------------------------- ----------- 143.1/204.2 MB 11.7 MB/s eta 0:00:06\n",
      "   --------------------------- ----------- 143.6/204.2 MB 11.7 MB/s eta 0:00:06\n",
      "   --------------------------- ----------- 144.1/204.2 MB 11.5 MB/s eta 0:00:06\n",
      "   --------------------------- ----------- 144.7/204.2 MB 11.5 MB/s eta 0:00:06\n",
      "   --------------------------- ----------- 145.2/204.2 MB 11.5 MB/s eta 0:00:06\n",
      "   --------------------------- ----------- 145.8/204.2 MB 11.5 MB/s eta 0:00:06\n",
      "   --------------------------- ----------- 146.3/204.2 MB 11.5 MB/s eta 0:00:06\n",
      "   ---------------------------- ---------- 146.9/204.2 MB 11.7 MB/s eta 0:00:05\n",
      "   ---------------------------- ---------- 147.4/204.2 MB 11.5 MB/s eta 0:00:05\n",
      "   ---------------------------- ---------- 147.9/204.2 MB 11.7 MB/s eta 0:00:05\n",
      "   ---------------------------- ---------- 148.5/204.2 MB 11.5 MB/s eta 0:00:05\n",
      "   ---------------------------- ---------- 149.1/204.2 MB 11.5 MB/s eta 0:00:05\n",
      "   ---------------------------- ---------- 149.6/204.2 MB 11.7 MB/s eta 0:00:05\n",
      "   ---------------------------- ---------- 150.2/204.2 MB 11.7 MB/s eta 0:00:05\n",
      "   ---------------------------- ---------- 150.7/204.2 MB 11.7 MB/s eta 0:00:05\n",
      "   ---------------------------- ---------- 151.3/204.2 MB 11.7 MB/s eta 0:00:05\n",
      "   ---------------------------- ---------- 151.5/204.2 MB 11.3 MB/s eta 0:00:05\n",
      "   ---------------------------- ---------- 151.7/204.2 MB 11.1 MB/s eta 0:00:05\n",
      "   ----------------------------- --------- 152.1/204.2 MB 10.9 MB/s eta 0:00:05\n",
      "   ----------------------------- --------- 152.6/204.2 MB 10.9 MB/s eta 0:00:05\n",
      "   ----------------------------- --------- 153.0/204.2 MB 10.7 MB/s eta 0:00:05\n",
      "   ----------------------------- --------- 153.5/204.2 MB 10.6 MB/s eta 0:00:05\n",
      "   ----------------------------- --------- 153.9/204.2 MB 10.6 MB/s eta 0:00:05\n",
      "   ----------------------------- --------- 154.3/204.2 MB 10.4 MB/s eta 0:00:05\n",
      "   ----------------------------- --------- 154.8/204.2 MB 10.4 MB/s eta 0:00:05\n",
      "   ----------------------------- --------- 155.3/204.2 MB 10.4 MB/s eta 0:00:05\n",
      "   ----------------------------- --------- 155.9/204.2 MB 10.4 MB/s eta 0:00:05\n",
      "   ----------------------------- --------- 156.2/204.2 MB 10.2 MB/s eta 0:00:05\n",
      "   ----------------------------- --------- 156.7/204.2 MB 10.1 MB/s eta 0:00:05\n",
      "   ------------------------------ -------- 157.2/204.2 MB 10.1 MB/s eta 0:00:05\n",
      "   ------------------------------ -------- 157.8/204.2 MB 10.1 MB/s eta 0:00:05\n",
      "   ------------------------------ -------- 158.3/204.2 MB 10.1 MB/s eta 0:00:05\n",
      "   ------------------------------ -------- 158.9/204.2 MB 10.1 MB/s eta 0:00:05\n",
      "   ------------------------------ -------- 159.4/204.2 MB 10.1 MB/s eta 0:00:05\n",
      "   ------------------------------ -------- 159.9/204.2 MB 10.1 MB/s eta 0:00:05\n",
      "   ------------------------------ -------- 160.5/204.2 MB 10.1 MB/s eta 0:00:05\n",
      "   ------------------------------ -------- 161.0/204.2 MB 10.1 MB/s eta 0:00:05\n",
      "   ------------------------------ -------- 161.6/204.2 MB 10.1 MB/s eta 0:00:05\n",
      "   ------------------------------ -------- 162.1/204.2 MB 10.7 MB/s eta 0:00:04\n",
      "   ------------------------------- ------- 162.7/204.2 MB 10.7 MB/s eta 0:00:04\n",
      "   ------------------------------- ------- 163.2/204.2 MB 11.1 MB/s eta 0:00:04\n",
      "   ------------------------------- ------- 163.8/204.2 MB 11.1 MB/s eta 0:00:04\n",
      "   ------------------------------- ------- 164.3/204.2 MB 11.3 MB/s eta 0:00:04\n",
      "   ------------------------------- ------- 164.9/204.2 MB 11.5 MB/s eta 0:00:04\n",
      "   ------------------------------- ------- 165.4/204.2 MB 11.5 MB/s eta 0:00:04\n",
      "   ------------------------------- ------- 165.8/204.2 MB 11.1 MB/s eta 0:00:04\n",
      "   ------------------------------- ------- 166.1/204.2 MB 11.1 MB/s eta 0:00:04\n",
      "   ------------------------------- ------- 166.3/204.2 MB 10.9 MB/s eta 0:00:04\n",
      "   ------------------------------- ------- 166.6/204.2 MB 10.7 MB/s eta 0:00:04\n",
      "   ------------------------------- ------- 166.8/204.2 MB 10.4 MB/s eta 0:00:04\n",
      "   ------------------------------- ------- 167.0/204.2 MB 10.2 MB/s eta 0:00:04\n",
      "   ------------------------------- ------- 167.4/204.2 MB 10.1 MB/s eta 0:00:04\n",
      "   -------------------------------- ------ 167.9/204.2 MB 10.1 MB/s eta 0:00:04\n",
      "   -------------------------------- ------ 168.5/204.2 MB 10.1 MB/s eta 0:00:04\n",
      "   -------------------------------- ------ 169.0/204.2 MB 10.1 MB/s eta 0:00:04\n",
      "   -------------------------------- ------ 169.6/204.2 MB 10.1 MB/s eta 0:00:04\n",
      "   -------------------------------- ------ 170.1/204.2 MB 10.1 MB/s eta 0:00:04\n",
      "   -------------------------------- ------ 170.7/204.2 MB 10.1 MB/s eta 0:00:04\n",
      "   --------------------------------- ------ 171.2/204.2 MB 9.9 MB/s eta 0:00:04\n",
      "   -------------------------------- ------ 171.8/204.2 MB 10.1 MB/s eta 0:00:04\n",
      "   -------------------------------- ------ 172.3/204.2 MB 10.1 MB/s eta 0:00:04\n",
      "   --------------------------------- ----- 172.9/204.2 MB 10.1 MB/s eta 0:00:04\n",
      "   --------------------------------- ------ 173.4/204.2 MB 9.9 MB/s eta 0:00:04\n",
      "   ---------------------------------- ----- 174.0/204.2 MB 9.9 MB/s eta 0:00:04\n",
      "   ---------------------------------- ----- 174.5/204.2 MB 9.9 MB/s eta 0:00:03\n",
      "   ---------------------------------- ----- 175.1/204.2 MB 9.9 MB/s eta 0:00:03\n",
      "   --------------------------------- ----- 175.7/204.2 MB 10.1 MB/s eta 0:00:03\n",
      "   --------------------------------- ----- 176.2/204.2 MB 10.2 MB/s eta 0:00:03\n",
      "   --------------------------------- ----- 176.8/204.2 MB 10.9 MB/s eta 0:00:03\n",
      "   --------------------------------- ----- 177.3/204.2 MB 11.7 MB/s eta 0:00:03\n",
      "   --------------------------------- ----- 177.8/204.2 MB 11.9 MB/s eta 0:00:03\n",
      "   ---------------------------------- ---- 178.4/204.2 MB 11.9 MB/s eta 0:00:03\n",
      "   ---------------------------------- ---- 178.9/204.2 MB 11.9 MB/s eta 0:00:03\n",
      "   ---------------------------------- ---- 179.5/204.2 MB 11.9 MB/s eta 0:00:03\n",
      "   ---------------------------------- ---- 180.0/204.2 MB 11.7 MB/s eta 0:00:03\n",
      "   ---------------------------------- ---- 180.6/204.2 MB 11.9 MB/s eta 0:00:02\n",
      "   ---------------------------------- ---- 181.2/204.2 MB 11.9 MB/s eta 0:00:02\n",
      "   ---------------------------------- ---- 181.7/204.2 MB 11.9 MB/s eta 0:00:02\n",
      "   ---------------------------------- ---- 182.3/204.2 MB 11.9 MB/s eta 0:00:02\n",
      "   ---------------------------------- ---- 182.8/204.2 MB 11.9 MB/s eta 0:00:02\n",
      "   ----------------------------------- --- 183.4/204.2 MB 11.9 MB/s eta 0:00:02\n",
      "   ----------------------------------- --- 183.9/204.2 MB 11.9 MB/s eta 0:00:02\n",
      "   ----------------------------------- --- 184.5/204.2 MB 11.9 MB/s eta 0:00:02\n",
      "   ----------------------------------- --- 185.0/204.2 MB 11.9 MB/s eta 0:00:02\n",
      "   ----------------------------------- --- 185.6/204.2 MB 11.9 MB/s eta 0:00:02\n",
      "   ----------------------------------- --- 186.1/204.2 MB 11.7 MB/s eta 0:00:02\n",
      "   ----------------------------------- --- 186.7/204.2 MB 11.7 MB/s eta 0:00:02\n",
      "   ----------------------------------- --- 187.2/204.2 MB 11.9 MB/s eta 0:00:02\n",
      "   ----------------------------------- --- 187.8/204.2 MB 11.7 MB/s eta 0:00:02\n",
      "   ----------------------------------- --- 188.2/204.2 MB 11.7 MB/s eta 0:00:02\n",
      "   ------------------------------------ -- 188.9/204.2 MB 11.7 MB/s eta 0:00:02\n",
      "   ------------------------------------ -- 189.4/204.2 MB 11.9 MB/s eta 0:00:02\n",
      "   ------------------------------------ -- 190.0/204.2 MB 11.7 MB/s eta 0:00:02\n",
      "   ------------------------------------ -- 190.5/204.2 MB 11.7 MB/s eta 0:00:02\n",
      "   ------------------------------------ -- 191.1/204.2 MB 11.7 MB/s eta 0:00:02\n",
      "   ------------------------------------ -- 191.6/204.2 MB 11.7 MB/s eta 0:00:02\n",
      "   ------------------------------------ -- 192.2/204.2 MB 11.7 MB/s eta 0:00:02\n",
      "   ------------------------------------ -- 192.7/204.2 MB 11.7 MB/s eta 0:00:01\n",
      "   ------------------------------------ -- 193.2/204.2 MB 11.7 MB/s eta 0:00:01\n",
      "   ------------------------------------ -- 193.6/204.2 MB 11.5 MB/s eta 0:00:01\n",
      "   ------------------------------------- - 194.1/204.2 MB 11.5 MB/s eta 0:00:01\n",
      "   ------------------------------------- - 194.5/204.2 MB 11.3 MB/s eta 0:00:01\n",
      "   ------------------------------------- - 194.8/204.2 MB 11.1 MB/s eta 0:00:01\n",
      "   ------------------------------------- - 195.2/204.2 MB 10.9 MB/s eta 0:00:01\n",
      "   ------------------------------------- - 195.7/204.2 MB 10.9 MB/s eta 0:00:01\n",
      "   ------------------------------------- - 196.3/204.2 MB 10.9 MB/s eta 0:00:01\n",
      "   ------------------------------------- - 196.8/204.2 MB 10.9 MB/s eta 0:00:01\n",
      "   ------------------------------------- - 197.4/204.2 MB 10.9 MB/s eta 0:00:01\n",
      "   ------------------------------------- - 197.9/204.2 MB 10.9 MB/s eta 0:00:01\n",
      "   ------------------------------------- - 198.5/204.2 MB 10.9 MB/s eta 0:00:01\n",
      "   --------------------------------------  199.0/204.2 MB 10.9 MB/s eta 0:00:01\n",
      "   --------------------------------------  199.6/204.2 MB 10.9 MB/s eta 0:00:01\n",
      "   --------------------------------------  200.2/204.2 MB 10.9 MB/s eta 0:00:01\n",
      "   --------------------------------------  200.7/204.2 MB 10.9 MB/s eta 0:00:01\n",
      "   --------------------------------------  201.2/204.2 MB 10.9 MB/s eta 0:00:01\n",
      "   --------------------------------------  201.8/204.2 MB 10.9 MB/s eta 0:00:01\n",
      "   --------------------------------------  202.3/204.2 MB 10.9 MB/s eta 0:00:01\n",
      "   --------------------------------------  202.9/204.2 MB 10.9 MB/s eta 0:00:01\n",
      "   --------------------------------------  203.5/204.2 MB 10.9 MB/s eta 0:00:01\n",
      "   --------------------------------------  204.0/204.2 MB 11.1 MB/s eta 0:00:01\n",
      "   --------------------------------------  204.2/204.2 MB 11.3 MB/s eta 0:00:01\n",
      "   --------------------------------------  204.2/204.2 MB 11.3 MB/s eta 0:00:01\n",
      "   --------------------------------------  204.2/204.2 MB 11.3 MB/s eta 0:00:01\n",
      "   --------------------------------------  204.2/204.2 MB 11.3 MB/s eta 0:00:01\n",
      "   --------------------------------------  204.2/204.2 MB 11.3 MB/s eta 0:00:01\n",
      "   ---------------------------------------- 204.2/204.2 MB 9.0 MB/s eta 0:00:00\n",
      "Downloading sympy-1.13.1-py3-none-any.whl (6.2 MB)\n",
      "   ---------------------------------------- 0.0/6.2 MB ? eta -:--:--\n",
      "   --- ------------------------------------ 0.5/6.2 MB 10.9 MB/s eta 0:00:01\n",
      "   ------ --------------------------------- 1.1/6.2 MB 11.3 MB/s eta 0:00:01\n",
      "   ---------- ----------------------------- 1.6/6.2 MB 11.5 MB/s eta 0:00:01\n",
      "   -------------- ------------------------- 2.2/6.2 MB 11.6 MB/s eta 0:00:01\n",
      "   ----------------- ---------------------- 2.7/6.2 MB 11.6 MB/s eta 0:00:01\n",
      "   --------------------- ------------------ 3.3/6.2 MB 11.6 MB/s eta 0:00:01\n",
      "   ------------------------ --------------- 3.8/6.2 MB 11.5 MB/s eta 0:00:01\n",
      "   --------------------------- ------------ 4.3/6.2 MB 11.5 MB/s eta 0:00:01\n",
      "   ------------------------------ --------- 4.8/6.2 MB 11.7 MB/s eta 0:00:01\n",
      "   ---------------------------------- ----- 5.3/6.2 MB 11.2 MB/s eta 0:00:01\n",
      "   ------------------------------------- -- 5.8/6.2 MB 11.6 MB/s eta 0:00:01\n",
      "   ---------------------------------------  6.2/6.2 MB 11.3 MB/s eta 0:00:01\n",
      "   ---------------------------------------  6.2/6.2 MB 11.3 MB/s eta 0:00:01\n",
      "   ---------------------------------------  6.2/6.2 MB 11.3 MB/s eta 0:00:01\n",
      "   ---------------------------------------  6.2/6.2 MB 11.3 MB/s eta 0:00:01\n",
      "   ---------------------------------------  6.2/6.2 MB 11.3 MB/s eta 0:00:01\n",
      "   ---------------------------------------- 6.2/6.2 MB 8.2 MB/s eta 0:00:00\n",
      "Downloading torchvision-0.21.0-cp311-cp311-win_amd64.whl (1.6 MB)\n",
      "   ---------------------------------------- 0.0/1.6 MB ? eta -:--:--\n",
      "   ------------- -------------------------- 0.5/1.6 MB 16.3 MB/s eta 0:00:01\n",
      "   --------------------------- ------------ 1.1/1.6 MB 13.5 MB/s eta 0:00:01\n",
      "   ---------------------------------------  1.6/1.6 MB 12.4 MB/s eta 0:00:01\n",
      "   ---------------------------------------- 1.6/1.6 MB 11.0 MB/s eta 0:00:00\n",
      "Downloading torchaudio-2.6.0-cp311-cp311-win_amd64.whl (2.5 MB)\n",
      "   ---------------------------------------- 0.0/2.5 MB ? eta -:--:--\n",
      "   ------- -------------------------------- 0.4/2.5 MB 13.5 MB/s eta 0:00:01\n",
      "   ---------------- ----------------------- 1.0/2.5 MB 12.7 MB/s eta 0:00:01\n",
      "   ------------------------- -------------- 1.6/2.5 MB 12.5 MB/s eta 0:00:01\n",
      "   ---------------------------------- ----- 2.1/2.5 MB 12.2 MB/s eta 0:00:01\n",
      "   ---------------------------------------- 2.5/2.5 MB 11.2 MB/s eta 0:00:00\n",
      "Using cached typing_extensions-4.12.2-py3-none-any.whl (37 kB)\n",
      "Installing collected packages: typing-extensions, sympy, torch, torchvision, torchaudio\n",
      "  Attempting uninstall: typing-extensions\n",
      "    Found existing installation: typing_extensions 4.9.0\n",
      "    Uninstalling typing_extensions-4.9.0:\n",
      "      Successfully uninstalled typing_extensions-4.9.0\n",
      "  Attempting uninstall: sympy\n",
      "    Found existing installation: sympy 1.12\n",
      "    Uninstalling sympy-1.12:\n",
      "      Successfully uninstalled sympy-1.12\n",
      "Successfully installed sympy-1.13.1 torch-2.6.0 torchaudio-2.6.0 torchvision-0.21.0 typing-extensions-4.12.2\n"
     ]
    }
   ],
   "source": [
    "!pip install torch torchvision torchaudio"
   ]
  },
  {
   "cell_type": "code",
   "execution_count": 40,
   "id": "47b0a0b0-d500-4d6b-9cbe-ce3ecb292007",
   "metadata": {},
   "outputs": [
    {
     "data": {
      "text/plain": [
       "'2.6.0+cpu'"
      ]
     },
     "execution_count": 40,
     "metadata": {},
     "output_type": "execute_result"
    }
   ],
   "source": [
    "import torch\n",
    "torch.__version__"
   ]
  },
  {
   "cell_type": "code",
   "execution_count": 50,
   "id": "5257cc0c-4e72-4dba-a7f6-12a3bae78d95",
   "metadata": {},
   "outputs": [],
   "source": [
    "from torch.utils.data import Dataset, DataLoader\n",
    "\n",
    "\n",
    "class GPTDatasetV1(Dataset):\n",
    "    def __init__(self, txt, tokenizer, max_length, stride):\n",
    "        self.input_ids = []\n",
    "        self.target_ids = []\n",
    "\n",
    "        # Tokenize the entire text\n",
    "        token_ids = tokenizer.encode(txt, allowed_special={\"<|endoftext|>\"})\n",
    "\n",
    "        # Use a sliding window to chunk the book into overlapping sequences of max_length\n",
    "        for i in range(0, len(token_ids) - max_length, stride):\n",
    "            input_chunk = token_ids[i:i + max_length]\n",
    "            target_chunk = token_ids[i + 1: i + max_length + 1]\n",
    "            self.input_ids.append(torch.tensor(input_chunk))\n",
    "            self.target_ids.append(torch.tensor(target_chunk))\n",
    "\n",
    "    def __len__(self):\n",
    "        return len(self.input_ids)\n",
    "\n",
    "    def __getitem__(self, idx):\n",
    "        return self.input_ids[idx], self.target_ids[idx]"
   ]
  },
  {
   "cell_type": "code",
   "execution_count": 51,
   "id": "50608b66-6166-4ad4-9a85-7945814463d2",
   "metadata": {},
   "outputs": [],
   "source": [
    "def create_dataloader_v1(txt, batch_size=4, max_length=256, \n",
    "                         stride=128, shuffle=True, drop_last=True,\n",
    "                         num_workers=0):\n",
    "\n",
    "    # Initialize the tokenizer\n",
    "    tokenizer = tiktoken.get_encoding(\"gpt2\")\n",
    "\n",
    "    # Create dataset\n",
    "    dataset = GPTDatasetV1(txt, tokenizer, max_length, stride)\n",
    "\n",
    "    # Create dataloader\n",
    "    dataloader = DataLoader(\n",
    "        dataset,\n",
    "        batch_size=batch_size,\n",
    "        shuffle=shuffle,\n",
    "        drop_last=drop_last,\n",
    "        num_workers=num_workers\n",
    "    )\n",
    "\n",
    "    return dataloader"
   ]
  },
  {
   "cell_type": "code",
   "execution_count": 47,
   "id": "392f2478-53d8-4105-9b0f-3ca5394b57bd",
   "metadata": {},
   "outputs": [],
   "source": [
    "with open(\"the-verdict.txt\", \"r\", encoding = \"utf-8\") as f:\n",
    "    raw_text = f.read()"
   ]
  },
  {
   "cell_type": "code",
   "execution_count": 52,
   "id": "af9b46fb-1ea5-4789-93d1-591481d5ae3e",
   "metadata": {},
   "outputs": [
    {
     "name": "stdout",
     "output_type": "stream",
     "text": [
      "PyTorch version: 2.6.0+cpu\n",
      "[tensor([[  40,  367, 2885, 1464]]), tensor([[ 367, 2885, 1464, 1807]])]\n"
     ]
    }
   ],
   "source": [
    "import torch\n",
    "print(\"PyTorch version:\", torch.__version__)\n",
    "dataloader = create_dataloader_v1(\n",
    "    raw_text, batch_size=1, max_length=4, stride=1, shuffle=False\n",
    ")\n",
    "\n",
    "data_iter = iter(dataloader)\n",
    "first_batch = next(data_iter)\n",
    "print(first_batch)"
   ]
  },
  {
   "cell_type": "code",
   "execution_count": 57,
   "id": "dd0f756f-9b0b-4573-86a9-0791345126eb",
   "metadata": {},
   "outputs": [
    {
     "name": "stdout",
     "output_type": "stream",
     "text": [
      "Inputs:\n",
      " tensor([[   40,   367,  2885,  1464],\n",
      "        [ 1807,  3619,   402,   271],\n",
      "        [10899,  2138,   257,  7026],\n",
      "        [15632,   438,  2016,   257],\n",
      "        [  922,  5891,  1576,   438],\n",
      "        [  568,   340,   373,   645],\n",
      "        [ 1049,  5975,   284,   502],\n",
      "        [  284,  3285,   326,    11]])\n",
      "\n",
      "Targets:\n",
      " tensor([[  367,  2885,  1464,  1807],\n",
      "        [ 3619,   402,   271, 10899],\n",
      "        [ 2138,   257,  7026, 15632],\n",
      "        [  438,  2016,   257,   922],\n",
      "        [ 5891,  1576,   438,   568],\n",
      "        [  340,   373,   645,  1049],\n",
      "        [ 5975,   284,   502,   284],\n",
      "        [ 3285,   326,    11,   287]])\n"
     ]
    }
   ],
   "source": [
    "dataloader = create_dataloader_v1(raw_text, batch_size = 8, max_length = 4, stride = 4, shuffle = False)\n",
    "\n",
    "data_iter = iter(dataloader)\n",
    "inputs, targets = next(data_iter)\n",
    "print(\"Inputs:\\n\", inputs)\n",
    "print(\"\\nTargets:\\n\", targets)"
   ]
  },
  {
   "cell_type": "code",
   "execution_count": null,
   "id": "cb504b5d-ac04-421d-9117-f70197e4d40d",
   "metadata": {},
   "outputs": [],
   "source": []
  }
 ],
 "metadata": {
  "kernelspec": {
   "display_name": "Python 3 (ipykernel)",
   "language": "python",
   "name": "python3"
  },
  "language_info": {
   "codemirror_mode": {
    "name": "ipython",
    "version": 3
   },
   "file_extension": ".py",
   "mimetype": "text/x-python",
   "name": "python",
   "nbconvert_exporter": "python",
   "pygments_lexer": "ipython3",
   "version": "3.11.7"
  }
 },
 "nbformat": 4,
 "nbformat_minor": 5
}
